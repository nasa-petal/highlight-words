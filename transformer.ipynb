{
 "cells": [
  {
   "cell_type": "code",
   "execution_count": 1,
   "id": "80990f17",
   "metadata": {},
   "outputs": [
    {
     "name": "stdout",
     "output_type": "stream",
     "text": [
      "Collecting transformers-interpret\n",
      "  Downloading transformers-interpret-0.5.2.tar.gz (29 kB)\n",
      "Collecting transformers>=3.0.0\n",
      "  Downloading transformers-4.16.2-py3-none-any.whl (3.5 MB)\n",
      "\u001b[K     |████████████████████████████████| 3.5 MB 9.9 MB/s eta 0:00:01\n",
      "\u001b[?25hCollecting captum>=0.3.1\n",
      "  Downloading captum-0.4.1-py3-none-any.whl (1.4 MB)\n",
      "\u001b[K     |████████████████████████████████| 1.4 MB 19.9 MB/s eta 0:00:01\n",
      "\u001b[?25hRequirement already satisfied: numpy in /Users/dolungwe/opt/anaconda3/lib/python3.8/site-packages (from captum>=0.3.1->transformers-interpret) (1.20.1)\n",
      "Collecting torch>=1.2\n",
      "  Downloading torch-1.10.2-cp38-none-macosx_10_9_x86_64.whl (147.2 MB)\n",
      "\u001b[K     |████████████████████████████████| 147.2 MB 18.3 MB/s eta 0:00:01\n",
      "\u001b[?25hRequirement already satisfied: matplotlib in /Users/dolungwe/opt/anaconda3/lib/python3.8/site-packages (from captum>=0.3.1->transformers-interpret) (3.3.4)\n",
      "Requirement already satisfied: typing-extensions in /Users/dolungwe/opt/anaconda3/lib/python3.8/site-packages (from torch>=1.2->captum>=0.3.1->transformers-interpret) (3.7.4.3)\n",
      "Collecting tokenizers!=0.11.3,>=0.10.1\n",
      "  Downloading tokenizers-0.11.4-cp38-cp38-macosx_10_11_x86_64.whl (3.7 MB)\n",
      "\u001b[K     |████████████████████████████████| 3.7 MB 19.2 MB/s eta 0:00:01\n",
      "\u001b[?25hRequirement already satisfied: regex!=2019.12.17 in /Users/dolungwe/opt/anaconda3/lib/python3.8/site-packages (from transformers>=3.0.0->transformers-interpret) (2021.4.4)\n",
      "Collecting huggingface-hub<1.0,>=0.1.0\n",
      "  Downloading huggingface_hub-0.4.0-py3-none-any.whl (67 kB)\n",
      "\u001b[K     |████████████████████████████████| 67 kB 8.5 MB/s  eta 0:00:01\n",
      "\u001b[?25hRequirement already satisfied: pyyaml>=5.1 in /Users/dolungwe/opt/anaconda3/lib/python3.8/site-packages (from transformers>=3.0.0->transformers-interpret) (5.4.1)\n",
      "Requirement already satisfied: filelock in /Users/dolungwe/opt/anaconda3/lib/python3.8/site-packages (from transformers>=3.0.0->transformers-interpret) (3.0.12)\n",
      "Requirement already satisfied: packaging>=20.0 in /Users/dolungwe/opt/anaconda3/lib/python3.8/site-packages (from transformers>=3.0.0->transformers-interpret) (20.9)\n",
      "Requirement already satisfied: requests in /Users/dolungwe/opt/anaconda3/lib/python3.8/site-packages (from transformers>=3.0.0->transformers-interpret) (2.25.1)\n",
      "Requirement already satisfied: tqdm>=4.27 in /Users/dolungwe/opt/anaconda3/lib/python3.8/site-packages (from transformers>=3.0.0->transformers-interpret) (4.59.0)\n",
      "Collecting sacremoses\n",
      "  Downloading sacremoses-0.0.47-py2.py3-none-any.whl (895 kB)\n",
      "\u001b[K     |████████████████████████████████| 895 kB 18.9 MB/s eta 0:00:01\n",
      "\u001b[?25hRequirement already satisfied: pyparsing>=2.0.2 in /Users/dolungwe/opt/anaconda3/lib/python3.8/site-packages (from packaging>=20.0->transformers>=3.0.0->transformers-interpret) (2.4.7)\n",
      "Requirement already satisfied: kiwisolver>=1.0.1 in /Users/dolungwe/opt/anaconda3/lib/python3.8/site-packages (from matplotlib->captum>=0.3.1->transformers-interpret) (1.3.1)\n",
      "Requirement already satisfied: pillow>=6.2.0 in /Users/dolungwe/opt/anaconda3/lib/python3.8/site-packages (from matplotlib->captum>=0.3.1->transformers-interpret) (8.2.0)\n",
      "Requirement already satisfied: cycler>=0.10 in /Users/dolungwe/opt/anaconda3/lib/python3.8/site-packages (from matplotlib->captum>=0.3.1->transformers-interpret) (0.10.0)\n",
      "Requirement already satisfied: python-dateutil>=2.1 in /Users/dolungwe/opt/anaconda3/lib/python3.8/site-packages (from matplotlib->captum>=0.3.1->transformers-interpret) (2.8.1)\n",
      "Requirement already satisfied: six in /Users/dolungwe/opt/anaconda3/lib/python3.8/site-packages (from cycler>=0.10->matplotlib->captum>=0.3.1->transformers-interpret) (1.15.0)\n",
      "Requirement already satisfied: certifi>=2017.4.17 in /Users/dolungwe/opt/anaconda3/lib/python3.8/site-packages (from requests->transformers>=3.0.0->transformers-interpret) (2020.12.5)\n",
      "Requirement already satisfied: urllib3<1.27,>=1.21.1 in /Users/dolungwe/opt/anaconda3/lib/python3.8/site-packages (from requests->transformers>=3.0.0->transformers-interpret) (1.26.4)\n",
      "Requirement already satisfied: chardet<5,>=3.0.2 in /Users/dolungwe/opt/anaconda3/lib/python3.8/site-packages (from requests->transformers>=3.0.0->transformers-interpret) (4.0.0)\n",
      "Requirement already satisfied: idna<3,>=2.5 in /Users/dolungwe/opt/anaconda3/lib/python3.8/site-packages (from requests->transformers>=3.0.0->transformers-interpret) (2.10)\n",
      "Requirement already satisfied: joblib in /Users/dolungwe/opt/anaconda3/lib/python3.8/site-packages (from sacremoses->transformers>=3.0.0->transformers-interpret) (1.0.1)\n",
      "Requirement already satisfied: click in /Users/dolungwe/opt/anaconda3/lib/python3.8/site-packages (from sacremoses->transformers>=3.0.0->transformers-interpret) (7.1.2)\n",
      "Building wheels for collected packages: transformers-interpret\n",
      "  Building wheel for transformers-interpret (setup.py) ... \u001b[?25ldone\n",
      "\u001b[?25h  Created wheel for transformers-interpret: filename=transformers_interpret-0.5.2-py3-none-any.whl size=23518 sha256=c5420aa53f74daaf2d571d80bed6e141291e29dab374b8facc60dc932f3203c1\n",
      "  Stored in directory: /Users/dolungwe/Library/Caches/pip/wheels/b7/8f/b2/aecc89913146c233b61eba5dc745fc81df6b48f5c53f6e45c6\n",
      "Successfully built transformers-interpret\n",
      "Installing collected packages: torch, tokenizers, sacremoses, huggingface-hub, transformers, captum, transformers-interpret\n",
      "Successfully installed captum-0.4.1 huggingface-hub-0.4.0 sacremoses-0.0.47 tokenizers-0.11.4 torch-1.10.2 transformers-4.16.2 transformers-interpret-0.5.2\n",
      "Note: you may need to restart the kernel to use updated packages.\n"
     ]
    }
   ],
   "source": [
    "pip install transformers-interpret"
   ]
  },
  {
   "cell_type": "code",
   "execution_count": 2,
   "id": "9005f5e6",
   "metadata": {},
   "outputs": [],
   "source": [
    "from transformers import AutoModelForSequenceClassification, AutoTokenizer"
   ]
  },
  {
   "cell_type": "code",
   "execution_count": 5,
   "id": "89179a46",
   "metadata": {},
   "outputs": [
    {
     "data": {
      "application/vnd.jupyter.widget-view+json": {
       "model_id": "ac23cacb600e4b77b468fe5501fb1459",
       "version_major": 2,
       "version_minor": 0
      },
      "text/plain": [
       "Downloading:   0%|          | 0.00/255M [00:00<?, ?B/s]"
      ]
     },
     "metadata": {},
     "output_type": "display_data"
    }
   ],
   "source": [
    "model_name = \"distilbert-base-uncased-finetuned-sst-2-english\"\n",
    "model = AutoModelForSequenceClassification.from_pretrained(model_name)\n",
    "tokenizer = AutoTokenizer.from_pretrained(model_name)"
   ]
  },
  {
   "cell_type": "code",
   "execution_count": null,
   "id": "34fe212d",
   "metadata": {},
   "outputs": [],
   "source": []
  },
  {
   "cell_type": "code",
   "execution_count": 8,
   "id": "9276d276",
   "metadata": {},
   "outputs": [],
   "source": [
    "from transformers_interpret import SequenceClassificationExplainer\n",
    "cls_explainer = SequenceClassificationExplainer(\n",
    "model,\n",
    "tokenizer)"
   ]
  },
  {
   "cell_type": "code",
   "execution_count": 12,
   "id": "fb357e59",
   "metadata": {},
   "outputs": [],
   "source": [
    "word_attributions = cls_explainer(\"water movements\")"
   ]
  },
  {
   "cell_type": "code",
   "execution_count": 13,
   "id": "a68f24aa",
   "metadata": {},
   "outputs": [
    {
     "data": {
      "text/plain": [
       "[('[CLS]', 0.0),\n",
       " ('water', 0.0465793998623808),\n",
       " ('movements', 0.9989145906975533),\n",
       " ('[SEP]', 0.0)]"
      ]
     },
     "execution_count": 13,
     "metadata": {},
     "output_type": "execute_result"
    }
   ],
   "source": [
    "word_attributions"
   ]
  }
 ],
 "metadata": {
  "kernelspec": {
   "display_name": "Python 3",
   "language": "python",
   "name": "python3"
  },
  "language_info": {
   "codemirror_mode": {
    "name": "ipython",
    "version": 3
   },
   "file_extension": ".py",
   "mimetype": "text/x-python",
   "name": "python",
   "nbconvert_exporter": "python",
   "pygments_lexer": "ipython3",
   "version": "3.8.8"
  }
 },
 "nbformat": 4,
 "nbformat_minor": 5
}
